{
 "cells": [
  {
   "cell_type": "code",
   "execution_count": 91,
   "metadata": {
    "collapsed": true
   },
   "outputs": [],
   "source": [
    "%matplotlib inline\n",
    "\n",
    "import numpy as np\n",
    "import pandas as pd\n",
    "import matplotlib.pyplot as plt"
   ]
  },
  {
   "cell_type": "code",
   "execution_count": 2,
   "metadata": {
    "collapsed": true
   },
   "outputs": [],
   "source": [
    "data = pd.read_csv(\"Neighborhood_MedianValuePerSqft_AllHomes.csv\")"
   ]
  },
  {
   "cell_type": "code",
   "execution_count": 3,
   "metadata": {},
   "outputs": [
    {
     "name": "stdout",
     "output_type": "stream",
     "text": [
      "   RegionID        RegionName         City State  \\\n",
      "0    274772  Northeast Dallas       Dallas    TX   \n",
      "1    192689          Paradise    Las Vegas    NV   \n",
      "2    112345          Maryvale      Phoenix    AZ   \n",
      "3    270958   Upper West Side     New York    NY   \n",
      "4     27080      Sherman Oaks  Los Angeles    CA   \n",
      "\n",
      "                            Metro   CountyName  SizeRank  1996-04  1996-05  \\\n",
      "0               Dallas-Fort Worth       Dallas         1      NaN      NaN   \n",
      "1                       Las Vegas        Clark         2     75.0     74.0   \n",
      "2                         Phoenix     Maricopa         3     43.0     44.0   \n",
      "3                        New York     New York         4      NaN      NaN   \n",
      "4  Los Angeles-Long Beach-Anaheim  Los Angeles         5    124.0    125.0   \n",
      "\n",
      "   1996-06   ...     2016-08  2016-09  2016-10  2016-11  2016-12  2017-01  \\\n",
      "0      NaN   ...         159      160      162      163      163      163   \n",
      "1     74.0   ...         120      120      120      121      122      123   \n",
      "2     44.0   ...         102      103      104      105      106      107   \n",
      "3      NaN   ...        1517     1518     1507     1498     1498     1495   \n",
      "4    126.0   ...         487      490      494      499      503      505   \n",
      "\n",
      "   2017-02  2017-03  2017-04  2017-05  \n",
      "0      163      165      166      167  \n",
      "1      124      125      126      126  \n",
      "2      107      107      108      108  \n",
      "3     1484     1474     1472     1475  \n",
      "4      508      510      512      513  \n",
      "\n",
      "[5 rows x 261 columns]\n"
     ]
    }
   ],
   "source": [
    "print(data.head(5))"
   ]
  },
  {
   "cell_type": "code",
   "execution_count": 4,
   "metadata": {},
   "outputs": [
    {
     "data": {
      "text/plain": [
       "Index(['RegionID', 'RegionName', 'City', 'State', 'Metro', 'CountyName',\n",
       "       'SizeRank', '1996-04', '1996-05', '1996-06',\n",
       "       ...\n",
       "       '2016-08', '2016-09', '2016-10', '2016-11', '2016-12', '2017-01',\n",
       "       '2017-02', '2017-03', '2017-04', '2017-05'],\n",
       "      dtype='object', length=261)"
      ]
     },
     "execution_count": 4,
     "metadata": {},
     "output_type": "execute_result"
    }
   ],
   "source": [
    "data.columns"
   ]
  },
  {
   "cell_type": "code",
   "execution_count": 5,
   "metadata": {},
   "outputs": [
    {
     "data": {
      "text/plain": [
       "RegionID        int64\n",
       "RegionName     object\n",
       "City           object\n",
       "State          object\n",
       "Metro          object\n",
       "CountyName     object\n",
       "SizeRank        int64\n",
       "1996-04       float64\n",
       "1996-05       float64\n",
       "1996-06       float64\n",
       "1996-07       float64\n",
       "1996-08       float64\n",
       "1996-09       float64\n",
       "1996-10       float64\n",
       "1996-11       float64\n",
       "1996-12       float64\n",
       "1997-01       float64\n",
       "1997-02       float64\n",
       "1997-03       float64\n",
       "1997-04       float64\n",
       "1997-05       float64\n",
       "1997-06       float64\n",
       "1997-07       float64\n",
       "1997-08       float64\n",
       "1997-09       float64\n",
       "1997-10       float64\n",
       "1997-11       float64\n",
       "1997-12       float64\n",
       "1998-01       float64\n",
       "1998-02       float64\n",
       "               ...   \n",
       "2014-12         int64\n",
       "2015-01         int64\n",
       "2015-02         int64\n",
       "2015-03         int64\n",
       "2015-04         int64\n",
       "2015-05         int64\n",
       "2015-06         int64\n",
       "2015-07         int64\n",
       "2015-08         int64\n",
       "2015-09         int64\n",
       "2015-10         int64\n",
       "2015-11         int64\n",
       "2015-12         int64\n",
       "2016-01         int64\n",
       "2016-02       float64\n",
       "2016-03       float64\n",
       "2016-04       float64\n",
       "2016-05       float64\n",
       "2016-06         int64\n",
       "2016-07         int64\n",
       "2016-08         int64\n",
       "2016-09         int64\n",
       "2016-10         int64\n",
       "2016-11         int64\n",
       "2016-12         int64\n",
       "2017-01         int64\n",
       "2017-02         int64\n",
       "2017-03         int64\n",
       "2017-04         int64\n",
       "2017-05         int64\n",
       "Length: 261, dtype: object"
      ]
     },
     "execution_count": 5,
     "metadata": {},
     "output_type": "execute_result"
    }
   ],
   "source": [
    "data.dtypes"
   ]
  },
  {
   "cell_type": "code",
   "execution_count": 146,
   "metadata": {},
   "outputs": [
    {
     "data": {
      "text/plain": [
       "pandas.core.series.Series"
      ]
     },
     "execution_count": 146,
     "metadata": {},
     "output_type": "execute_result"
    }
   ],
   "source": [
    "uws=data[data['RegionName']=='Upper West Side']\n",
    "midtown=data[data['RegionID']==270028]\n",
    "abc=data.iloc[0]\n",
    "type(abc)\n",
    "#abcd=abc.values\n",
    "#type(abcd)\n",
    "#first create a Series with Index(dates) and Values($), given a Region \n",
    "#then pass in a list of Regions "
   ]
  },
  {
   "cell_type": "code",
   "execution_count": 137,
   "metadata": {},
   "outputs": [
    {
     "data": {
      "text/plain": [
       "pandas.core.frame.DataFrame"
      ]
     },
     "execution_count": 137,
     "metadata": {},
     "output_type": "execute_result"
    }
   ],
   "source": [
    "type(midtown)"
   ]
  },
  {
   "cell_type": "code",
   "execution_count": 135,
   "metadata": {
    "scrolled": true
   },
   "outputs": [
    {
     "data": {
      "image/png": "[encoded data removed]",
      "text/plain": [
       "<matplotlib.figure.Figure at 0x11593b828>"
      ]
     },
     "metadata": {},
     "output_type": "display_data"
    }
   ],
   "source": [
    "from datetime import datetime\n",
    "\n",
    "datestrings=list(uws.columns[7:])\n",
    "datedates=[]\n",
    "\n",
    "for date in datestrings:\n",
    "    datetime_object=datetime.strptime(date,'%Y-%m')\n",
    "    datedates.append(datetime_object)\n",
    "\n",
    "def make_list(region_row):\n",
    "    a=region_row.values.tolist()\n",
    "    z=[]\n",
    "    for x in a:\n",
    "        for y in x:\n",
    "            z.append(y)\n",
    "    return z[7:]\n",
    "\n",
    "listuws=make_list(uws)\n",
    "listmidtown=make_list(midtown)\n",
    "\n",
    "fig=plt.figure()\n",
    "uws_axis=fig.add_subplot(1,2,1)\n",
    "uws_axis.plot(datedates,listuws)\n",
    "uws_axis.set_title(\"UWS Price/Sq Ft\")\n",
    "\n",
    "midtown_axis=fig.add_subplot(1,2,2)\n",
    "midtown_axis.plot(datedates,listmidtown)\n",
    "midtown_axis.set_title(\"Midtown Detroit Price/Sq Ft\")\n",
    "\n",
    "\n",
    "#midtown_axis.set_xlim(0, 5)\n",
    "#midtown_axis.set_ylim(0, 5)\n",
    "\n",
    "#uws_axis.set_xlim(0, 5)\n",
    "#uws_axis.set_ylim(0, 5)\n",
    "\n",
    "plt.tight_layout()"
   ]
  },
  {
   "cell_type": "code",
   "execution_count": null,
   "metadata": {},
   "outputs": [],
   "source": [
    "#bar chart for 2017 vs bar chart for before - each bar is a city \n",
    "#which regions exceed peaks and by how much #pct change column \n",
    "#which regions are 1)still below peak/max 2)accelerating "
   ]
  },
  {
   "cell_type": "code",
   "execution_count": 157,
   "metadata": {},
   "outputs": [
    {
     "data": {
      "image/png": "[encoded data removed]",
      "text/plain": [
       "<matplotlib.figure.Figure at 0x116988eb8>"
      ]
     },
     "metadata": {},
     "output_type": "display_data"
    }
   ],
   "source": [
    "end=data['2017-05'].plot(kind='hist')"
   ]
  },
  {
   "cell_type": "code",
   "execution_count": 156,
   "metadata": {},
   "outputs": [
    {
     "data": {
      "image/png": "[encoded data removed]",
      "text/plain": [
       "<matplotlib.figure.Figure at 0x115b08cf8>"
      ]
     },
     "metadata": {},
     "output_type": "display_data"
    }
   ],
   "source": [
    "start=data['1996-04'].plot(kind='hist')"
   ]
  },
  {
   "cell_type": "code",
   "execution_count": 161,
   "metadata": {},
   "outputs": [
    {
     "data": {
      "image/png": "[encoded data removed]",
      "text/plain": [
       "<matplotlib.figure.Figure at 0x11779cac8>"
      ]
     },
     "metadata": {},
     "output_type": "display_data"
    }
   ],
   "source": [
    "#the two histograms above tell me that the distribution has become more unequal \n",
    "start=data['2010-04'].plot(kind='hist')"
   ]
  },
  {
   "cell_type": "code",
   "execution_count": 159,
   "metadata": {},
   "outputs": [
    {
     "data": {
      "text/plain": [
       "count    5879.000000\n",
       "mean      230.304474\n",
       "std       218.476870\n",
       "min        24.000000\n",
       "25%        95.000000\n",
       "50%       153.000000\n",
       "75%       285.000000\n",
       "max      1966.000000\n",
       "Name: 2017-05, dtype: float64"
      ]
     },
     "execution_count": 159,
     "metadata": {},
     "output_type": "execute_result"
    }
   ],
   "source": [
    "data['2017-05'].describe()"
   ]
  },
  {
   "cell_type": "code",
   "execution_count": 160,
   "metadata": {},
   "outputs": [
    {
     "data": {
      "text/plain": [
       "count    4374.000000\n",
       "mean       81.397119\n",
       "std        43.327420\n",
       "min        19.000000\n",
       "25%        52.000000\n",
       "50%        70.000000\n",
       "75%        97.000000\n",
       "max       537.000000\n",
       "Name: 1996-04, dtype: float64"
      ]
     },
     "execution_count": 160,
     "metadata": {},
     "output_type": "execute_result"
    }
   ],
   "source": [
    "data['1996-04'].describe()"
   ]
  },
  {
   "cell_type": "code",
   "execution_count": 165,
   "metadata": {},
   "outputs": [
    {
     "data": {
      "image/png": "[encoded data removed]",
      "text/plain": [
       "<matplotlib.figure.Figure at 0x118742ac8>"
      ]
     },
     "metadata": {},
     "output_type": "display_data"
    }
   ],
   "source": [
    "x5=data.plot(y='2017-05',x='1996-04', kind='scatter')\n"
   ]
  },
  {
   "cell_type": "code",
   "execution_count": 177,
   "metadata": {
    "collapsed": true
   },
   "outputs": [],
   "source": [
    "sorted_data=data.sort_values('2017-05')"
   ]
  },
  {
   "cell_type": "code",
   "execution_count": 190,
   "metadata": {},
   "outputs": [
    {
     "data": {
      "text/html": [
       "<div>\n",
       "<style>\n",
       "    .dataframe thead tr:only-child th {\n",
       "        text-align: right;\n",
       "    }\n",
       "\n",
       "    .dataframe thead th {\n",
       "        text-align: left;\n",
       "    }\n",
       "\n",
       "    .dataframe tbody tr th {\n",
       "        vertical-align: top;\n",
       "    }\n",
       "</style>\n",
       "<table border=\"1\" class=\"dataframe\">\n",
       "  <thead>\n",
       "    <tr style=\"text-align: right;\">\n",
       "      <th></th>\n",
       "      <th>RegionName</th>\n",
       "      <th>City</th>\n",
       "      <th>2017-05</th>\n",
       "    </tr>\n",
       "  </thead>\n",
       "  <tbody>\n",
       "    <tr>\n",
       "      <th>5300</th>\n",
       "      <td>Sea Cliff</td>\n",
       "      <td>San Francisco</td>\n",
       "      <td>1418</td>\n",
       "    </tr>\n",
       "    <tr>\n",
       "      <th>3</th>\n",
       "      <td>Upper West Side</td>\n",
       "      <td>New York</td>\n",
       "      <td>1475</td>\n",
       "    </tr>\n",
       "    <tr>\n",
       "      <th>2870</th>\n",
       "      <td>Barron Park</td>\n",
       "      <td>Palo Alto</td>\n",
       "      <td>1480</td>\n",
       "    </tr>\n",
       "    <tr>\n",
       "      <th>1120</th>\n",
       "      <td>Midtown</td>\n",
       "      <td>Palo Alto</td>\n",
       "      <td>1501</td>\n",
       "    </tr>\n",
       "    <tr>\n",
       "      <th>322</th>\n",
       "      <td>Clinton</td>\n",
       "      <td>New York</td>\n",
       "      <td>1504</td>\n",
       "    </tr>\n",
       "    <tr>\n",
       "      <th>3042</th>\n",
       "      <td>Central Menlo Park</td>\n",
       "      <td>Menlo Park</td>\n",
       "      <td>1505</td>\n",
       "    </tr>\n",
       "    <tr>\n",
       "      <th>3975</th>\n",
       "      <td>South of Midtown</td>\n",
       "      <td>Palo Alto</td>\n",
       "      <td>1522</td>\n",
       "    </tr>\n",
       "    <tr>\n",
       "      <th>3855</th>\n",
       "      <td>Ventura</td>\n",
       "      <td>Palo Alto</td>\n",
       "      <td>1567</td>\n",
       "    </tr>\n",
       "    <tr>\n",
       "      <th>2768</th>\n",
       "      <td>Presidio Heights</td>\n",
       "      <td>San Francisco</td>\n",
       "      <td>1590</td>\n",
       "    </tr>\n",
       "    <tr>\n",
       "      <th>4526</th>\n",
       "      <td>College Terrace</td>\n",
       "      <td>Palo Alto</td>\n",
       "      <td>1624</td>\n",
       "    </tr>\n",
       "    <tr>\n",
       "      <th>3314</th>\n",
       "      <td>Duveneck - St. Francis</td>\n",
       "      <td>Palo Alto</td>\n",
       "      <td>1645</td>\n",
       "    </tr>\n",
       "    <tr>\n",
       "      <th>1346</th>\n",
       "      <td>Little Italy</td>\n",
       "      <td>New York</td>\n",
       "      <td>1708</td>\n",
       "    </tr>\n",
       "    <tr>\n",
       "      <th>4727</th>\n",
       "      <td>Jordan Jr. Hgh School</td>\n",
       "      <td>Palo Alto</td>\n",
       "      <td>1710</td>\n",
       "    </tr>\n",
       "    <tr>\n",
       "      <th>5333</th>\n",
       "      <td>Port Royal</td>\n",
       "      <td>Naples</td>\n",
       "      <td>1710</td>\n",
       "    </tr>\n",
       "    <tr>\n",
       "      <th>5173</th>\n",
       "      <td>Community Center</td>\n",
       "      <td>Palo Alto</td>\n",
       "      <td>1760</td>\n",
       "    </tr>\n",
       "    <tr>\n",
       "      <th>2963</th>\n",
       "      <td>Crescent Park</td>\n",
       "      <td>Palo Alto</td>\n",
       "      <td>1832</td>\n",
       "    </tr>\n",
       "    <tr>\n",
       "      <th>3266</th>\n",
       "      <td>Old Palo Alto</td>\n",
       "      <td>Palo Alto</td>\n",
       "      <td>1847</td>\n",
       "    </tr>\n",
       "    <tr>\n",
       "      <th>653</th>\n",
       "      <td>Tribeca</td>\n",
       "      <td>New York</td>\n",
       "      <td>1880</td>\n",
       "    </tr>\n",
       "    <tr>\n",
       "      <th>437</th>\n",
       "      <td>West Village</td>\n",
       "      <td>New York</td>\n",
       "      <td>1890</td>\n",
       "    </tr>\n",
       "    <tr>\n",
       "      <th>2535</th>\n",
       "      <td>Garment District</td>\n",
       "      <td>New York</td>\n",
       "      <td>1966</td>\n",
       "    </tr>\n",
       "  </tbody>\n",
       "</table>\n",
       "</div>"
      ],
      "text/plain": [
       "                  RegionName           City  2017-05\n",
       "5300               Sea Cliff  San Francisco     1418\n",
       "3            Upper West Side       New York     1475\n",
       "2870             Barron Park      Palo Alto     1480\n",
       "1120                 Midtown      Palo Alto     1501\n",
       "322                  Clinton       New York     1504\n",
       "3042      Central Menlo Park     Menlo Park     1505\n",
       "3975        South of Midtown      Palo Alto     1522\n",
       "3855                 Ventura      Palo Alto     1567\n",
       "2768        Presidio Heights  San Francisco     1590\n",
       "4526         College Terrace      Palo Alto     1624\n",
       "3314  Duveneck - St. Francis      Palo Alto     1645\n",
       "1346            Little Italy       New York     1708\n",
       "4727   Jordan Jr. Hgh School      Palo Alto     1710\n",
       "5333              Port Royal         Naples     1710\n",
       "5173        Community Center      Palo Alto     1760\n",
       "2963           Crescent Park      Palo Alto     1832\n",
       "3266           Old Palo Alto      Palo Alto     1847\n",
       "653                  Tribeca       New York     1880\n",
       "437             West Village       New York     1890\n",
       "2535        Garment District       New York     1966"
      ]
     },
     "execution_count": 190,
     "metadata": {},
     "output_type": "execute_result"
    }
   ],
   "source": [
    "sorted_data[['RegionName','City','2017-05']][-20:]"
   ]
  },
  {
   "cell_type": "code",
   "execution_count": 185,
   "metadata": {},
   "outputs": [],
   "source": [
    "sorted_data1996=data.sort_values('1996-04').dropna()"
   ]
  },
  {
   "cell_type": "code",
   "execution_count": 193,
   "metadata": {},
   "outputs": [
    {
     "data": {
      "text/html": [
       "<div>\n",
       "<style>\n",
       "    .dataframe thead tr:only-child th {\n",
       "        text-align: right;\n",
       "    }\n",
       "\n",
       "    .dataframe thead th {\n",
       "        text-align: left;\n",
       "    }\n",
       "\n",
       "    .dataframe tbody tr th {\n",
       "        vertical-align: top;\n",
       "    }\n",
       "</style>\n",
       "<table border=\"1\" class=\"dataframe\">\n",
       "  <thead>\n",
       "    <tr style=\"text-align: right;\">\n",
       "      <th></th>\n",
       "      <th>RegionName</th>\n",
       "      <th>City</th>\n",
       "      <th>1996-04</th>\n",
       "    </tr>\n",
       "  </thead>\n",
       "  <tbody>\n",
       "    <tr>\n",
       "      <th>3607</th>\n",
       "      <td>Loyola</td>\n",
       "      <td>Los Altos</td>\n",
       "      <td>283.0</td>\n",
       "    </tr>\n",
       "    <tr>\n",
       "      <th>3190</th>\n",
       "      <td>Downtown North</td>\n",
       "      <td>Palo Alto</td>\n",
       "      <td>283.0</td>\n",
       "    </tr>\n",
       "    <tr>\n",
       "      <th>282</th>\n",
       "      <td>Makiki-Lower Punchbowl-Tantalus</td>\n",
       "      <td>Honolulu</td>\n",
       "      <td>284.0</td>\n",
       "    </tr>\n",
       "    <tr>\n",
       "      <th>536</th>\n",
       "      <td>Downtown</td>\n",
       "      <td>San Francisco</td>\n",
       "      <td>285.0</td>\n",
       "    </tr>\n",
       "    <tr>\n",
       "      <th>914</th>\n",
       "      <td>Downtown</td>\n",
       "      <td>Honolulu</td>\n",
       "      <td>287.0</td>\n",
       "    </tr>\n",
       "    <tr>\n",
       "      <th>4526</th>\n",
       "      <td>College Terrace</td>\n",
       "      <td>Palo Alto</td>\n",
       "      <td>288.0</td>\n",
       "    </tr>\n",
       "    <tr>\n",
       "      <th>546</th>\n",
       "      <td>Pacific Heights</td>\n",
       "      <td>San Francisco</td>\n",
       "      <td>289.0</td>\n",
       "    </tr>\n",
       "    <tr>\n",
       "      <th>548</th>\n",
       "      <td>Diamond Head-Kapahulu-St. Louis</td>\n",
       "      <td>Honolulu</td>\n",
       "      <td>293.0</td>\n",
       "    </tr>\n",
       "    <tr>\n",
       "      <th>5173</th>\n",
       "      <td>Community Center</td>\n",
       "      <td>Palo Alto</td>\n",
       "      <td>300.0</td>\n",
       "    </tr>\n",
       "    <tr>\n",
       "      <th>2963</th>\n",
       "      <td>Crescent Park</td>\n",
       "      <td>Palo Alto</td>\n",
       "      <td>300.0</td>\n",
       "    </tr>\n",
       "    <tr>\n",
       "      <th>1387</th>\n",
       "      <td>Cow Hollow</td>\n",
       "      <td>San Francisco</td>\n",
       "      <td>300.0</td>\n",
       "    </tr>\n",
       "    <tr>\n",
       "      <th>3266</th>\n",
       "      <td>Old Palo Alto</td>\n",
       "      <td>Palo Alto</td>\n",
       "      <td>303.0</td>\n",
       "    </tr>\n",
       "    <tr>\n",
       "      <th>553</th>\n",
       "      <td>Nob Hill</td>\n",
       "      <td>San Francisco</td>\n",
       "      <td>304.0</td>\n",
       "    </tr>\n",
       "    <tr>\n",
       "      <th>895</th>\n",
       "      <td>Marina</td>\n",
       "      <td>San Francisco</td>\n",
       "      <td>310.0</td>\n",
       "    </tr>\n",
       "    <tr>\n",
       "      <th>1612</th>\n",
       "      <td>Telegraph Hill</td>\n",
       "      <td>San Francisco</td>\n",
       "      <td>311.0</td>\n",
       "    </tr>\n",
       "    <tr>\n",
       "      <th>726</th>\n",
       "      <td>Russian Hill</td>\n",
       "      <td>San Francisco</td>\n",
       "      <td>311.0</td>\n",
       "    </tr>\n",
       "    <tr>\n",
       "      <th>470</th>\n",
       "      <td>Waikiki</td>\n",
       "      <td>Honolulu</td>\n",
       "      <td>312.0</td>\n",
       "    </tr>\n",
       "    <tr>\n",
       "      <th>3184</th>\n",
       "      <td>Financial District</td>\n",
       "      <td>San Francisco</td>\n",
       "      <td>315.0</td>\n",
       "    </tr>\n",
       "    <tr>\n",
       "      <th>670</th>\n",
       "      <td>Ala Moana-Kakaako</td>\n",
       "      <td>Honolulu</td>\n",
       "      <td>335.0</td>\n",
       "    </tr>\n",
       "    <tr>\n",
       "      <th>5333</th>\n",
       "      <td>Port Royal</td>\n",
       "      <td>Naples</td>\n",
       "      <td>466.0</td>\n",
       "    </tr>\n",
       "  </tbody>\n",
       "</table>\n",
       "</div>"
      ],
      "text/plain": [
       "                           RegionName           City  1996-04\n",
       "3607                           Loyola      Los Altos    283.0\n",
       "3190                   Downtown North      Palo Alto    283.0\n",
       "282   Makiki-Lower Punchbowl-Tantalus       Honolulu    284.0\n",
       "536                          Downtown  San Francisco    285.0\n",
       "914                          Downtown       Honolulu    287.0\n",
       "4526                  College Terrace      Palo Alto    288.0\n",
       "546                   Pacific Heights  San Francisco    289.0\n",
       "548   Diamond Head-Kapahulu-St. Louis       Honolulu    293.0\n",
       "5173                 Community Center      Palo Alto    300.0\n",
       "2963                    Crescent Park      Palo Alto    300.0\n",
       "1387                       Cow Hollow  San Francisco    300.0\n",
       "3266                    Old Palo Alto      Palo Alto    303.0\n",
       "553                          Nob Hill  San Francisco    304.0\n",
       "895                            Marina  San Francisco    310.0\n",
       "1612                   Telegraph Hill  San Francisco    311.0\n",
       "726                      Russian Hill  San Francisco    311.0\n",
       "470                           Waikiki       Honolulu    312.0\n",
       "3184               Financial District  San Francisco    315.0\n",
       "670                 Ala Moana-Kakaako       Honolulu    335.0\n",
       "5333                       Port Royal         Naples    466.0"
      ]
     },
     "execution_count": 193,
     "metadata": {},
     "output_type": "execute_result"
    }
   ],
   "source": [
    "sorted_data1996[['RegionName','City','1996-04']][-20:]"
   ]
  },
  {
   "cell_type": "code",
   "execution_count": null,
   "metadata": {
    "collapsed": true
   },
   "outputs": [],
   "source": [
    "sorted_data1996[-20:]"
   ]
  }
 ],
 "metadata": {
  "kernelspec": {
   "display_name": "Python 3",
   "language": "python",
   "name": "python3"
  },
  "language_info": {
   "codemirror_mode": {
    "name": "ipython",
    "version": 3
   },
   "file_extension": ".py",
   "mimetype": "text/x-python",
   "name": "python",
   "nbconvert_exporter": "python",
   "pygments_lexer": "ipython3",
   "version": "3.6.1"
  }
 },
 "nbformat": 4,
 "nbformat_minor": 2
}
